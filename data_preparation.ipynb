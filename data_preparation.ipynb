{
  "cells": [
    {
      "cell_type": "code",
      "execution_count": null,
      "metadata": {
        "id": "uH50jnPE1Byh"
      },
      "outputs": [],
      "source": [
        "import pandas as pd\n",
        "from sklearn.model_selection import train_test_split"
      ]
    },
    {
      "cell_type": "code",
      "execution_count": null,
      "metadata": {
        "id": "RXBGpbZt1JQA"
      },
      "outputs": [],
      "source": [
        "data_df = pd.read_csv(\"cleaned_dataset.csv\")\n",
        "question_df = pd.read_csv(\"survey_question_list.csv\")"
      ]
    },
    {
      "cell_type": "code",
      "execution_count": null,
      "metadata": {
        "id": "zGKYF5GP1VC3"
      },
      "outputs": [],
      "source": [
        "data_df = data_df.drop(columns=['G04Q11. How old are you?     ',\n",
        "       'G02Q18. Please enter your citizenship:',\n",
        "       'G04Q12. What is your highest completed level of education?',\n",
        "       'G04Q13. What is your level of English proficiency?',\n",
        "       'G04Q14. Do you have any previous experience in the field of machine learning?',\n",
        "       'G04Q16. Do you have any previous experience with counterfactual explanation frameworks or causality frameworks?',\n",
        "       'G02Q17. Do you have a medical background?',\n",
        "       'G02Q08. From 1 (not at all) to 6 (perfectly), how well did you understand the metrics:',\n",
        "       'G27Q249. '])\n",
        "data_df"
      ]
    },
    {
      "cell_type": "code",
      "execution_count": null,
      "metadata": {
        "id": "WxNpRi_E1xGg"
      },
      "outputs": [],
      "source": [
        "def func(value):\n",
        "  if(value<2):\n",
        "    return \"low\"\n",
        "  if(value<3):\n",
        "    return \"medium\"\n",
        "  return \"high\""
      ]
    },
    {
      "cell_type": "markdown",
      "source": [
        "# Data processing for averaged experiment"
      ],
      "metadata": {
        "id": "aWJlIrtI8LoK"
      }
    },
    {
      "cell_type": "code",
      "source": [
        "dataset = pd.DataFrame(columns=[\"prompt\", \"type\", \"answer\"])\n",
        "means = data_df.mean().drop([\"id. Response ID\"])\n",
        "\n",
        "for i in range(240):\n",
        "  #Scaling complexity separately\n",
        "  if(i%8==7):\n",
        "    dataset.loc[i] = [question_df.iloc[i//8].Question, i%8, func(means[i]*1.25+2.5)]\n",
        "    continue\n",
        "  dataset.loc[i] = [question_df.iloc[i//8].Question, i%8, func(means[i]-1)]"
      ],
      "metadata": {
        "id": "uTI6dndx8RD3"
      },
      "execution_count": null,
      "outputs": []
    },
    {
      "cell_type": "markdown",
      "source": [
        "# Data processing for specific participants experiment"
      ],
      "metadata": {
        "id": "32Atz76V8rms"
      }
    },
    {
      "cell_type": "code",
      "source": [
        "# Row 131 = Participant A\n",
        "# Row 27 = Participant B\n",
        "# Row 177 = Participant C\n",
        "# Row 169 = Participant C\n",
        "\n",
        "dataset = pd.DataFrame(columns=[\"prompt\",\"type\",\"answer_100\",\"answer_310\",\"answer_356\",\"answer_364\"])\n",
        "\n",
        "for i in range(240):\n",
        "  if(i%8==7):\n",
        "    dataset.loc[i] = [question_df.iloc[i//8].Question, i%8, func(data_df.drop(columns=[\"id. Response ID\"]).iloc[27][i]*1.25+2.5),func(data_df.drop(columns=[\"id. Response ID\"]).iloc[131][i]*1.25+2.5),func(data_df.drop(columns=[\"id. Response ID\"]).iloc[169][i]*1.25+2.5), func(data_df.drop(columns=[\"id. Response ID\"]).iloc[177][i]*1.25+2.5)]\n",
        "    continue\n",
        "  dataset.loc[i] = [question_df.iloc[i//8].Question, i%8, func(data_df.drop(columns=[\"id. Response ID\"]).iloc[27][i]-1),func(data_df.drop(columns=[\"id. Response ID\"]).iloc[131][i]-1),func(data_df.drop(columns=[\"id. Response ID\"]).iloc[169][i]-1), func(data_df.drop(columns=[\"id. Response ID\"]).iloc[177][i]-1)]"
      ],
      "metadata": {
        "id": "ZdcwKKVh8wKl"
      },
      "execution_count": null,
      "outputs": []
    },
    {
      "cell_type": "markdown",
      "source": [
        "# Splitting data based on metrics"
      ],
      "metadata": {
        "id": "Ga_jQhGD1Vwd"
      }
    },
    {
      "cell_type": "code",
      "execution_count": null,
      "metadata": {
        "id": "mwOY70TPTlBz"
      },
      "outputs": [],
      "source": [
        "# Function for finding a suitable split of data\n",
        "def split(datas):\n",
        "  for i in range(0,300000):\n",
        "    if(i%10000==0):\n",
        "      print(\"Epoch \" + str(i))\n",
        "    Tr0, Ts0 = train_test_split(datas, train_size=0.8,stratify=dataset.type, random_state=i)\n",
        "    for j in range(8):\n",
        "      answers = Ts0[Ts0.type==j].answer.values\n",
        "      if(j==5):\n",
        "        continue\n",
        "      if not \"low\" in answers:\n",
        "        break\n",
        "      if not \"medium\" in answers:\n",
        "        break\n",
        "      if not \"high\" in answers:\n",
        "        break\n",
        "      if(j==7):\n",
        "        print(i)\n",
        "        return (Tr0,Ts0)\n"
      ]
    },
    {
      "cell_type": "code",
      "execution_count": null,
      "metadata": {
        "id": "hWx28T_AI0-R"
      },
      "outputs": [],
      "source": [
        "# For reproducibility, this enables recreating the metric-wise split used in the experiments\n",
        "Ts0 = dataset.iloc[[27,52,208,0,195,210,76,225,193,94,205,53,165,203,50,168,49,137,45,151,239,156,133,62,4,159,148,130,176,178,200,120,47,109,175,65,86,35,162,198,82,20,59, 206, 73, 95, 3, 126]].reset_index(drop=True)\n",
        "Tr0 = dataset.drop([27,52,208,0,195,210,76,225,193,94,205,53,165,203,50,168,49,137,45,151,239,156,133,62,4,159,148,130,176,178,200,120,47,109,175,65,86,35,162,198,82,20,59, 206, 73, 95, 3, 126]).reset_index(drop=True)\n",
        "\n",
        "Ts0.to_csv(\"testset_200_metric.csv\")\n",
        "Tr0.to_csv(\"trainset_200_metric.csv\")"
      ]
    },
    {
      "cell_type": "markdown",
      "source": [
        "# Splitting data based on explanations"
      ],
      "metadata": {
        "id": "awFEdWx71L3e"
      }
    },
    {
      "cell_type": "code",
      "execution_count": null,
      "metadata": {
        "id": "7F9qMPJilPPQ"
      },
      "outputs": [],
      "source": [
        "testquestions = pd.concat([dataset.iloc[0:8],dataset.iloc[40:48], dataset.iloc[64:72], dataset.iloc[112:120], dataset.iloc[176:184], dataset.iloc[224:232]])\n",
        "dropping_ixs = list(range(0,8)) + list(range(40,48))  + list(range(64,72)) + list(range(112,120)) + list(range(176,184)) + list(range(224,232))\n",
        "Tr0 = dataset.drop(index=dropping_ixs).reset_index(drop=True)\n",
        "Ts0 = testquestions.reset_index(drop=True)\n",
        "\n",
        "Ts0.to_csv(\"testset_200_question.csv\")\n",
        "Tr0.to_csv(\"trainset_200_question.csv\")"
      ]
    }
  ],
  "metadata": {
    "colab": {
      "provenance": []
    },
    "kernelspec": {
      "display_name": "Python 3",
      "name": "python3"
    },
    "language_info": {
      "name": "python"
    }
  },
  "nbformat": 4,
  "nbformat_minor": 0
}